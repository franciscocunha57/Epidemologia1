{
 "cells": [
  {
   "cell_type": "code",
   "execution_count": 1,
   "metadata": {},
   "outputs": [],
   "source": [
    "import sys\n",
    "import os\n",
    "import numpy as np\n",
    "import matplotlib.pyplot as plt\n",
    "import pandas as pd\n",
    "from qgis.core import *\n",
    "from qgis.PyQt.QtGui import *\n",
    "from qgis.PyQt.QtCore import *\n",
    "from IPython.display import Image\n",
    "import warnings\n",
    "warnings.filterwarnings(\"ignore\")\n",
    "\n",
    "from scipy import optimize"
   ]
  },
  {
   "cell_type": "code",
   "execution_count": 2,
   "metadata": {},
   "outputs": [
    {
     "data": {
      "text/html": [
       "<div>\n",
       "<style scoped>\n",
       "    .dataframe tbody tr th:only-of-type {\n",
       "        vertical-align: middle;\n",
       "    }\n",
       "\n",
       "    .dataframe tbody tr th {\n",
       "        vertical-align: top;\n",
       "    }\n",
       "\n",
       "    .dataframe thead th {\n",
       "        text-align: right;\n",
       "    }\n",
       "</style>\n",
       "<table border=\"1\" class=\"dataframe\">\n",
       "  <thead>\n",
       "    <tr style=\"text-align: right;\">\n",
       "      <th></th>\n",
       "      <th>Province/State</th>\n",
       "      <th>Country/Region</th>\n",
       "      <th>Lat</th>\n",
       "      <th>Long</th>\n",
       "      <th>1/22/20</th>\n",
       "      <th>1/23/20</th>\n",
       "      <th>1/24/20</th>\n",
       "      <th>1/25/20</th>\n",
       "      <th>1/26/20</th>\n",
       "      <th>1/27/20</th>\n",
       "      <th>...</th>\n",
       "      <th>5/19/20</th>\n",
       "      <th>5/20/20</th>\n",
       "      <th>5/21/20</th>\n",
       "      <th>5/22/20</th>\n",
       "      <th>5/23/20</th>\n",
       "      <th>5/24/20</th>\n",
       "      <th>5/25/20</th>\n",
       "      <th>5/26/20</th>\n",
       "      <th>5/27/20</th>\n",
       "      <th>5/28/20</th>\n",
       "    </tr>\n",
       "  </thead>\n",
       "  <tbody>\n",
       "    <tr>\n",
       "      <th>0</th>\n",
       "      <td>NaN</td>\n",
       "      <td>Afghanistan</td>\n",
       "      <td>33.0000</td>\n",
       "      <td>65.0000</td>\n",
       "      <td>0</td>\n",
       "      <td>0</td>\n",
       "      <td>0</td>\n",
       "      <td>0</td>\n",
       "      <td>0</td>\n",
       "      <td>0</td>\n",
       "      <td>...</td>\n",
       "      <td>7653</td>\n",
       "      <td>8145</td>\n",
       "      <td>8676</td>\n",
       "      <td>9216</td>\n",
       "      <td>9998</td>\n",
       "      <td>10582</td>\n",
       "      <td>11173</td>\n",
       "      <td>11831</td>\n",
       "      <td>12456</td>\n",
       "      <td>13036</td>\n",
       "    </tr>\n",
       "    <tr>\n",
       "      <th>1</th>\n",
       "      <td>NaN</td>\n",
       "      <td>Albania</td>\n",
       "      <td>41.1533</td>\n",
       "      <td>20.1683</td>\n",
       "      <td>0</td>\n",
       "      <td>0</td>\n",
       "      <td>0</td>\n",
       "      <td>0</td>\n",
       "      <td>0</td>\n",
       "      <td>0</td>\n",
       "      <td>...</td>\n",
       "      <td>949</td>\n",
       "      <td>964</td>\n",
       "      <td>969</td>\n",
       "      <td>981</td>\n",
       "      <td>989</td>\n",
       "      <td>998</td>\n",
       "      <td>1004</td>\n",
       "      <td>1029</td>\n",
       "      <td>1050</td>\n",
       "      <td>1076</td>\n",
       "    </tr>\n",
       "    <tr>\n",
       "      <th>2</th>\n",
       "      <td>NaN</td>\n",
       "      <td>Algeria</td>\n",
       "      <td>28.0339</td>\n",
       "      <td>1.6596</td>\n",
       "      <td>0</td>\n",
       "      <td>0</td>\n",
       "      <td>0</td>\n",
       "      <td>0</td>\n",
       "      <td>0</td>\n",
       "      <td>0</td>\n",
       "      <td>...</td>\n",
       "      <td>7377</td>\n",
       "      <td>7542</td>\n",
       "      <td>7728</td>\n",
       "      <td>7918</td>\n",
       "      <td>8113</td>\n",
       "      <td>8306</td>\n",
       "      <td>8503</td>\n",
       "      <td>8697</td>\n",
       "      <td>8857</td>\n",
       "      <td>8997</td>\n",
       "    </tr>\n",
       "    <tr>\n",
       "      <th>3</th>\n",
       "      <td>NaN</td>\n",
       "      <td>Andorra</td>\n",
       "      <td>42.5063</td>\n",
       "      <td>1.5218</td>\n",
       "      <td>0</td>\n",
       "      <td>0</td>\n",
       "      <td>0</td>\n",
       "      <td>0</td>\n",
       "      <td>0</td>\n",
       "      <td>0</td>\n",
       "      <td>...</td>\n",
       "      <td>761</td>\n",
       "      <td>762</td>\n",
       "      <td>762</td>\n",
       "      <td>762</td>\n",
       "      <td>762</td>\n",
       "      <td>762</td>\n",
       "      <td>763</td>\n",
       "      <td>763</td>\n",
       "      <td>763</td>\n",
       "      <td>763</td>\n",
       "    </tr>\n",
       "    <tr>\n",
       "      <th>4</th>\n",
       "      <td>NaN</td>\n",
       "      <td>Angola</td>\n",
       "      <td>-11.2027</td>\n",
       "      <td>17.8739</td>\n",
       "      <td>0</td>\n",
       "      <td>0</td>\n",
       "      <td>0</td>\n",
       "      <td>0</td>\n",
       "      <td>0</td>\n",
       "      <td>0</td>\n",
       "      <td>...</td>\n",
       "      <td>52</td>\n",
       "      <td>52</td>\n",
       "      <td>58</td>\n",
       "      <td>60</td>\n",
       "      <td>61</td>\n",
       "      <td>69</td>\n",
       "      <td>70</td>\n",
       "      <td>70</td>\n",
       "      <td>71</td>\n",
       "      <td>74</td>\n",
       "    </tr>\n",
       "  </tbody>\n",
       "</table>\n",
       "<p>5 rows × 132 columns</p>\n",
       "</div>"
      ],
      "text/plain": [
       "  Province/State Country/Region      Lat     Long  1/22/20  1/23/20  1/24/20  \\\n",
       "0            NaN    Afghanistan  33.0000  65.0000        0        0        0   \n",
       "1            NaN        Albania  41.1533  20.1683        0        0        0   \n",
       "2            NaN        Algeria  28.0339   1.6596        0        0        0   \n",
       "3            NaN        Andorra  42.5063   1.5218        0        0        0   \n",
       "4            NaN         Angola -11.2027  17.8739        0        0        0   \n",
       "\n",
       "   1/25/20  1/26/20  1/27/20  ...  5/19/20  5/20/20  5/21/20  5/22/20  \\\n",
       "0        0        0        0  ...     7653     8145     8676     9216   \n",
       "1        0        0        0  ...      949      964      969      981   \n",
       "2        0        0        0  ...     7377     7542     7728     7918   \n",
       "3        0        0        0  ...      761      762      762      762   \n",
       "4        0        0        0  ...       52       52       58       60   \n",
       "\n",
       "   5/23/20  5/24/20  5/25/20  5/26/20  5/27/20  5/28/20  \n",
       "0     9998    10582    11173    11831    12456    13036  \n",
       "1      989      998     1004     1029     1050     1076  \n",
       "2     8113     8306     8503     8697     8857     8997  \n",
       "3      762      762      763      763      763      763  \n",
       "4       61       69       70       70       71       74  \n",
       "\n",
       "[5 rows x 132 columns]"
      ]
     },
     "execution_count": 2,
     "metadata": {},
     "output_type": "execute_result"
    }
   ],
   "source": [
    "dtf = pd.read_csv(\"https://raw.githubusercontent.com/CSSEGISandData/COVID-19/master/csse_covid_19_data/csse_covid_19_time_series/time_series_covid19_confirmed_global.csv\", sep=\",\")\n",
    "dtf.head()\n"
   ]
  },
  {
   "cell_type": "code",
   "execution_count": 3,
   "metadata": {},
   "outputs": [
    {
     "data": {
      "text/html": [
       "<div>\n",
       "<style scoped>\n",
       "    .dataframe tbody tr th:only-of-type {\n",
       "        vertical-align: middle;\n",
       "    }\n",
       "\n",
       "    .dataframe tbody tr th {\n",
       "        vertical-align: top;\n",
       "    }\n",
       "\n",
       "    .dataframe thead th {\n",
       "        text-align: right;\n",
       "    }\n",
       "</style>\n",
       "<table border=\"1\" class=\"dataframe\">\n",
       "  <thead>\n",
       "    <tr style=\"text-align: right;\">\n",
       "      <th></th>\n",
       "      <th>total</th>\n",
       "      <th>new</th>\n",
       "    </tr>\n",
       "  </thead>\n",
       "  <tbody>\n",
       "    <tr>\n",
       "      <th>2020-01-22</th>\n",
       "      <td>0</td>\n",
       "      <td>0.0</td>\n",
       "    </tr>\n",
       "    <tr>\n",
       "      <th>2020-01-23</th>\n",
       "      <td>0</td>\n",
       "      <td>0.0</td>\n",
       "    </tr>\n",
       "    <tr>\n",
       "      <th>2020-01-24</th>\n",
       "      <td>0</td>\n",
       "      <td>0.0</td>\n",
       "    </tr>\n",
       "    <tr>\n",
       "      <th>2020-01-25</th>\n",
       "      <td>0</td>\n",
       "      <td>0.0</td>\n",
       "    </tr>\n",
       "    <tr>\n",
       "      <th>2020-01-26</th>\n",
       "      <td>0</td>\n",
       "      <td>0.0</td>\n",
       "    </tr>\n",
       "  </tbody>\n",
       "</table>\n",
       "</div>"
      ],
      "text/plain": [
       "            total  new\n",
       "2020-01-22      0  0.0\n",
       "2020-01-23      0  0.0\n",
       "2020-01-24      0  0.0\n",
       "2020-01-25      0  0.0\n",
       "2020-01-26      0  0.0"
      ]
     },
     "execution_count": 3,
     "metadata": {},
     "output_type": "execute_result"
    }
   ],
   "source": [
    "## group by country, sum and transpose\n",
    "dtf = dtf.drop(['Province/State','Lat','Long'], axis=1).groupby(\"Country/Region\").sum().T\n",
    "\n",
    "## convert index to datetime\n",
    "dtf.index = pd.to_datetime(dtf.index, infer_datetime_format=True)\n",
    "\n",
    "## create total cases column\n",
    "dtf = pd.DataFrame(index=dtf.index, data=dtf[\"Sweden\"].values, columns=[\"total\"])\n",
    "## create new cases column\n",
    "dtf[\"new\"] = dtf[\"total\"] - dtf[\"total\"].shift(1)\n",
    "dtf[\"new\"] = dtf[\"new\"].fillna(method='bfill')\n",
    "dtf.head()"
   ]
  },
  {
   "cell_type": "code",
   "execution_count": 4,
   "metadata": {},
   "outputs": [
    {
     "data": {
      "text/html": [
       "<div>\n",
       "<style scoped>\n",
       "    .dataframe tbody tr th:only-of-type {\n",
       "        vertical-align: middle;\n",
       "    }\n",
       "\n",
       "    .dataframe tbody tr th {\n",
       "        vertical-align: top;\n",
       "    }\n",
       "\n",
       "    .dataframe thead th {\n",
       "        text-align: right;\n",
       "    }\n",
       "</style>\n",
       "<table border=\"1\" class=\"dataframe\">\n",
       "  <thead>\n",
       "    <tr style=\"text-align: right;\">\n",
       "      <th></th>\n",
       "      <th>total</th>\n",
       "      <th>new</th>\n",
       "    </tr>\n",
       "  </thead>\n",
       "  <tbody>\n",
       "    <tr>\n",
       "      <th>2020-05-24</th>\n",
       "      <td>33459</td>\n",
       "      <td>271.0</td>\n",
       "    </tr>\n",
       "    <tr>\n",
       "      <th>2020-05-25</th>\n",
       "      <td>33843</td>\n",
       "      <td>384.0</td>\n",
       "    </tr>\n",
       "    <tr>\n",
       "      <th>2020-05-26</th>\n",
       "      <td>34440</td>\n",
       "      <td>597.0</td>\n",
       "    </tr>\n",
       "    <tr>\n",
       "      <th>2020-05-27</th>\n",
       "      <td>35088</td>\n",
       "      <td>648.0</td>\n",
       "    </tr>\n",
       "    <tr>\n",
       "      <th>2020-05-28</th>\n",
       "      <td>35727</td>\n",
       "      <td>639.0</td>\n",
       "    </tr>\n",
       "  </tbody>\n",
       "</table>\n",
       "</div>"
      ],
      "text/plain": [
       "            total    new\n",
       "2020-05-24  33459  271.0\n",
       "2020-05-25  33843  384.0\n",
       "2020-05-26  34440  597.0\n",
       "2020-05-27  35088  648.0\n",
       "2020-05-28  35727  639.0"
      ]
     },
     "execution_count": 4,
     "metadata": {},
     "output_type": "execute_result"
    }
   ],
   "source": [
    "dtf.tail()"
   ]
  },
  {
   "cell_type": "code",
   "execution_count": 7,
   "metadata": {},
   "outputs": [
    {
     "data": {
      "image/png": "[encoded data removed]",
      "text/plain": [
       "<Figure size 936x504 with 2 Axes>"
      ]
     },
     "metadata": {
      "needs_background": "light"
     },
     "output_type": "display_data"
    }
   ],
   "source": [
    "fig, ax = plt.subplots(nrows=2, ncols=1, sharex=True, figsize=(13,7))\n",
    "ax[0].scatter(dtf.index, dtf[\"total\"].values, color=\"#0080FF\")\n",
    "ax[0].set(title=\"total cases\")\n",
    "ax[1].bar(dtf.index, dtf[\"new\"].values, color=\"#0080FF\")\n",
    "ax[1].set(title=\"new cases\")\n",
    "plt.show()\n"
   ]
  },
  {
   "cell_type": "code",
   "execution_count": 40,
   "metadata": {},
   "outputs": [],
   "source": [
    "'''\n",
    "Linear function: f(x) = a + b*x\n",
    "'''\n",
    "def f(x):\n",
    "    return 10 + 500*x\n",
    "\n",
    "y_linear = f(x=np.arange(len(dtf)))\n",
    "'''\n",
    "Exponential function: f(x) = a + b^x\n",
    "'''\n",
    "def f(x):\n",
    "    return 100 + 1.18**x\n",
    "\n",
    "y_exponential = f(x=np.arange(len(dtf)))\n",
    "'''\n",
    "Logistic function: f(x) = a / (1 + e^(-b*(x-c)))\n",
    "'''\n",
    "def f(x): \n",
    "    return 90000 / (1 + np.exp(-0.5*(x-20)))\n",
    "\n",
    "y_logistic = f(x=np.arange(len(dtf)))"
   ]
  },
  {
   "cell_type": "code",
   "execution_count": 50,
   "metadata": {},
   "outputs": [
    {
     "data": {
      "image/png": "[encoded data removed]",
      "text/plain": [
       "<Figure size 936x360 with 1 Axes>"
      ]
     },
     "metadata": {
      "needs_background": "light"
     },
     "output_type": "display_data"
    }
   ],
   "source": [
    "fig, ax = plt.subplots(figsize=(13,5))\n",
    "ax.scatter(dtf[\"total\"].index, dtf[\"total\"].values, color=\"black\")\n",
    "ax.plot(dtf[\"total\"].index, y_linear, label=\"linear\", color=\"red\")\n",
    "ax.plot(dtf[\"total\"].index, y_exponential, label=\"exponential\", color=\"green\")\n",
    "ax.plot(dtf[\"total\"].index, y_logistic, label=\"logistic\", color=\"blue\")\n",
    "ax.legend()\n",
    "plt.show()"
   ]
  },
  {
   "cell_type": "code",
   "execution_count": 47,
   "metadata": {},
   "outputs": [],
   "source": [
    "'''\n",
    "Gaussian function: f(x) = a * e^(-0.5 * ((x-μ)/σ)**2)\n",
    "'''\n",
    "def f(x):\n",
    "    return 900 * np.exp(-0.1 * ((x-95)/10)**2)\n",
    "   \n",
    "\n",
    "y_gaussian = f(x=np.arange(len(dtf)))"
   ]
  },
  {
   "cell_type": "code",
   "execution_count": 48,
   "metadata": {},
   "outputs": [
    {
     "data": {
      "image/png": "[encoded data removed]",
      "text/plain": [
       "<Figure size 936x360 with 1 Axes>"
      ]
     },
     "metadata": {
      "needs_background": "light"
     },
     "output_type": "display_data"
    }
   ],
   "source": [
    "fig, ax = plt.subplots(figsize=(13,5))\n",
    "ax.bar(dtf[\"new\"].index, dtf[\"new\"].values, color=\"#0080FF\")\n",
    "ax.plot(dtf[\"new\"].index, y_gaussian, color=\"red\")\n",
    "plt.show()"
   ]
  }
 ],
 "metadata": {
  "kernelspec": {
   "display_name": "Python 3",
   "language": "python",
   "name": "python3"
  },
  "language_info": {
   "codemirror_mode": {
    "name": "ipython",
    "version": 3
   },
   "file_extension": ".py",
   "mimetype": "text/x-python",
   "name": "python",
   "nbconvert_exporter": "python",
   "pygments_lexer": "ipython3",
   "version": "3.7.0"
  }
 },
 "nbformat": 4,
 "nbformat_minor": 2
}
