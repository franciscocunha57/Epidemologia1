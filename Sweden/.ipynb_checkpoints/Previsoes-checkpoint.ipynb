{
 "cells": [
  {
   "cell_type": "code",
   "execution_count": 2,
   "metadata": {},
   "outputs": [],
   "source": [
    "import sys\n",
    "import os\n",
    "import numpy as np\n",
    "import matplotlib.pyplot as plt\n",
    "import pandas as pd\n",
    "from qgis.core import *\n",
    "from qgis.PyQt.QtGui import *\n",
    "from qgis.PyQt.QtCore import *\n",
    "from IPython.display import Image\n",
    "\n",
    "from scipy import optimize"
   ]
  },
  {
   "cell_type": "code",
   "execution_count": 3,
   "metadata": {},
   "outputs": [],
   "source": [
    "QgsApplication.setPrefixPath(r'C:\\\\OSGeo4W64\\\\apps\\\\qgis', True)\n",
    "qgs = QgsApplication([], True)\n",
    "qgs.initQgis()\n",
    "sys.path.append(r'C:\\OSGeo4W64\\apps\\qgis\\python\\plugins')\n",
    "project = QgsProject.instance()"
   ]
  },
  {
   "cell_type": "code",
   "execution_count": 4,
   "metadata": {},
   "outputs": [
    {
     "name": "stdout",
     "output_type": "stream",
     "text": [
      "Sucess\n"
     ]
    }
   ],
   "source": [
    "path = \"mapa/SWE_adm1.shp\"\n",
    "\n",
    "map_layer = QgsVectorLayer(path, 'SWE_adm1', 'ogr')\n",
    "\n",
    "if not map_layer.isValid():\n",
    "    print(\"Failed to load the layer!\")\n",
    "else:\n",
    "    project.addMapLayer(map_layer)\n",
    "    print(\"Sucess\")"
   ]
  },
  {
   "cell_type": "code",
   "execution_count": 12,
   "metadata": {},
   "outputs": [
    {
     "data": {
      "text/plain": [
       "True"
      ]
     },
     "execution_count": 12,
     "metadata": {},
     "output_type": "execute_result"
    }
   ],
   "source": [
    "\n",
    "\n",
    "uri='file:///C:/OSGeo4W64/bin/Epidemiologia1/Sweden/dados/owid-covid-data.csv?delimiter=,'\n",
    "infoLyr=QgsVectorLayer(uri,'','delimitedtext')\n",
    "infoLyr.isValid()"
   ]
  },
  {
   "cell_type": "code",
   "execution_count": 13,
   "metadata": {},
   "outputs": [],
   "source": [
    "joinName = 'Display_Name'\n",
    "targetName = 'NAME_1'\n",
    "\n",
    "joinObject = QgsVectorLayerJoinInfo()\n",
    "joinObject.setJoinFieldName(joinName)\n",
    "joinObject.setTargetFieldName(targetName)\n",
    "joinObject.setJoinLayerId(csv_layer.id())\n",
    "joinObject.setUsingMemoryCache(True)\n",
    "joinObject.setJoinLayer(csv_layer)\n",
    "flag = map_layer.addJoin(joinObject)"
   ]
  },
  {
   "cell_type": "code",
   "execution_count": 14,
   "metadata": {},
   "outputs": [
    {
     "name": "stdout",
     "output_type": "stream",
     "text": [
      "Column ID_0 Load\n",
      "Column ISO Load\n",
      "Column NAME_0 Load\n",
      "Column ID_1 Load\n",
      "Column NAME_1 Load\n",
      "Column TYPE_1 Load\n",
      "Column ENGTYPE_1 Load\n",
      "Column NL_NAME_1 Load\n",
      "Column VARNAME_1 Load\n",
      "Column Data_Region Load\n",
      "Column Data_Population Load\n",
      "Column Data_Lat Load\n",
      "Column Data_Long Load\n",
      "Column Data_25/02/2020 Load\n",
      "Column Data_26/02/2020 Load\n",
      "Column Data_27/02/2020 Load\n",
      "Column Data_28/02/2020 Load\n",
      "Column Data_29/02/2020 Load\n",
      "Column Data_01/03/2020 Load\n",
      "Column Data_02/03/2020 Load\n",
      "Column Data_03/03/2020 Load\n",
      "Column Data_04/03/2020 Load\n",
      "Column Data_05/03/2020 Load\n",
      "Column Data_06/03/2020 Load\n",
      "Column Data_07/03/2020 Load\n",
      "Column Data_08/03/2020 Load\n",
      "Column Data_09/03/2020 Load\n",
      "Column Data_10/03/2020 Load\n",
      "Column Data_11/03/2020 Load\n",
      "Column Data_12/03/2020 Load\n",
      "Column Data_13/03/2020 Load\n",
      "Column Data_14/03/2020 Load\n",
      "Column Data_15/03/2020 Load\n",
      "Column Data_16/03/2020 Load\n",
      "Column Data_17/03/2020 Load\n",
      "Column Data_18/03/2020 Load\n",
      "Column Data_19/03/2020 Load\n",
      "Column Data_20/03/2020 Load\n",
      "Column Data_21/03/2020 Load\n",
      "Column Data_22/03/2020 Load\n",
      "Column Data_23/03/2020 Load\n",
      "Column Data_24/03/2020 Load\n",
      "Column Data_25/03/2020 Load\n",
      "Column Data_26/03/2020 Load\n",
      "Column Data_27/03/2020 Load\n",
      "Column Data_28/03/2020 Load\n",
      "Column Data_29/03/2020 Load\n",
      "Column Data_30/03/2020 Load\n",
      "Column Data_31/03/2020 Load\n",
      "Column Data_01/04/2020 Load\n",
      "Column Data_02/04/2020 Load\n",
      "Column Data_03/04/2020 Load\n",
      "Column Data_04/04/2020 Load\n",
      "Column Data_05/04/2020 Load\n",
      "Column Data_06/04/2020 Load\n",
      "Column Data_07/04/2020 Load\n",
      "Column Data_08/04/2020 Load\n",
      "Column Data_09/04/2020 Load\n",
      "Column Data_10/04/2020 Load\n",
      "Column Data_11/04/2020 Load\n",
      "Column Data_12/04/2020 Load\n",
      "Column Data_13/04/2020 Load\n",
      "Column Data_14/04/2020 Load\n",
      "Column Data_15/04/2020 Load\n",
      "Column Data_16/04/2020 Load\n",
      "Column Data_17/04/2020 Load\n",
      "Column Data_18/04/2020 Load\n",
      "Column Data_19/04/2020 Load\n",
      "Column Data_20/04/2020 Load\n",
      "Column Data_21/04/2020 Load\n",
      "Column Data_22/04/2020 Load\n",
      "Column Data_23/04/2020 Load\n",
      "Column Data_24/04/2020 Load\n",
      "Column Data_25/04/2020 Load\n",
      "Column Data_26/04/2020 Load\n",
      "Column Data_27/04/2020 Load\n",
      "Column Data_28/04/2020 Load\n",
      "Column Data_29/04/2020 Load\n",
      "Column Data_30/04/2020 Load\n",
      "Column Data_01/05/2020 Load\n",
      "Column Data_02/05/2020 Load\n",
      "Column Data_03/05/2020 Load\n",
      "Column Data_04/05/2020 Load\n",
      "Column Data_05/05/2020 Load\n",
      "Column Data_06/05/2020 Load\n",
      "Column Data_07/05/2020 Load\n",
      "Column Data_08/05/2020 Load\n",
      "Column Data_09/05/2020 Load\n",
      "Column Data_10/05/2020 Load\n",
      "Column Data_11/05/2020 Load\n",
      "Column Data_12/05/2020 Load\n",
      "Column Data_13/05/2020 Load\n",
      "Column Data_14/05/2020 Load\n",
      "Column Data_15/05/2020 Load\n",
      "Column Data_16/05/2020 Load\n",
      "Column Data_17/05/2020 Load\n",
      "Column Data_18/05/2020 Load\n",
      "Column Data_Today Load\n",
      "Column Data_Region_Total Load\n",
      "Column Data_FHM_Today Load\n",
      "Column Data_Diff Load\n",
      "Column Data_Region_Deaths Load\n",
      "Column Data_FHM_Deaths_Today Load\n",
      "Column Data_At_Hospital Load\n",
      "Column Data_At_ICU Load\n",
      "Column Data_Hospital_Total Load\n",
      "Column Data_ICU_Capacity_2017 Load\n",
      "Column Data_FHM_ICU_Est Load\n",
      "Column Data_Tests Load\n",
      "Column Data_iso_code Load\n",
      "Column Data_location Load\n",
      "Column Data_date Load\n",
      "Column Data_total_cases Load\n",
      "Column Data_new_cases Load\n",
      "Column Data_total_deaths Load\n",
      "Column Data_new_deaths Load\n",
      "Column Data_total_cases_per_million Load\n",
      "Column Data_new_cases_per_million Load\n",
      "Column Data_total_deaths_per_million Load\n",
      "Column Data_new_deaths_per_million Load\n",
      "Column Data_total_tests Load\n",
      "Column Data_new_tests Load\n",
      "Column Data_total_tests_per_thousand Load\n",
      "Column Data_new_tests_per_thousand Load\n",
      "Column Data_new_tests_smoothed Load\n",
      "Column Data_new_tests_smoothed_per_thousand Load\n",
      "Column Data_tests_units Load\n",
      "Column Data_stringency_index Load\n",
      "Column Data_population Load\n",
      "Column Data_population_density Load\n",
      "Column Data_median_age Load\n",
      "Column Data_aged_65_older Load\n",
      "Column Data_aged_70_older Load\n",
      "Column Data_gdp_per_capita Load\n",
      "Column Data_extreme_poverty Load\n",
      "Column Data_cvd_death_rate Load\n",
      "Column Data_diabetes_prevalence Load\n",
      "Column Data_female_smokers Load\n",
      "Column Data_male_smokers Load\n",
      "Column Data_handwashing_facilities Load\n",
      "Column Data_hospital_beds_per_100k Load\n"
     ]
    }
   ],
   "source": [
    "death_layer = map_layer.clone()\n",
    "death_layer.setName(\"Region_Total\")\n",
    "for field in death_layer.fields():\n",
    "    print(\"Column \"+field.name()+\" Load\")"
   ]
  }
 ],
 "metadata": {
  "kernelspec": {
   "display_name": "Python 3",
   "language": "python",
   "name": "python3"
  },
  "language_info": {
   "codemirror_mode": {
    "name": "ipython",
    "version": 3
   },
   "file_extension": ".py",
   "mimetype": "text/x-python",
   "name": "python",
   "nbconvert_exporter": "python",
   "pygments_lexer": "ipython3",
   "version": "3.7.0"
  }
 },
 "nbformat": 4,
 "nbformat_minor": 2
}
